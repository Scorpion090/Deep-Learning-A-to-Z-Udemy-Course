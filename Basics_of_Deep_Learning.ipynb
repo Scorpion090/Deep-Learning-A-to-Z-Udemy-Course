{
  "nbformat": 4,
  "nbformat_minor": 0,
  "metadata": {
    "colab": {
      "provenance": []
    },
    "kernelspec": {
      "name": "python3",
      "display_name": "Python 3"
    },
    "language_info": {
      "name": "python"
    }
  },
  "cells": [
    {
      "cell_type": "markdown",
      "source": [
        "# **<font color='Yellow'><b>Basics Of Deep Learning -</b></font>**"
      ],
      "metadata": {
        "id": "SMV_OZJCsHxE"
      }
    },
    {
      "cell_type": "markdown",
      "source": [
        "# **<font color='Yellow'><b>The Neuron -</b></font>**"
      ],
      "metadata": {
        "id": "4VVPDixpsa7x"
      }
    },
    {
      "cell_type": "markdown",
      "source": [
        "**In this Deep Learning tutorial we are going to examine the Neuron in neural networking . Briefly cover:**\n",
        "\n",
        "- **What is it?**\n",
        "- **What is does?**\n",
        "- **Where is fits in the Neural Network?**\n",
        "- **Why is it important?**\n",
        "\n",
        "**The Neurons that forms the basics of all Neural Networks is an immitation of what has been observed in the human brain:**"
      ],
      "metadata": {
        "id": "40ANqB0LskFA"
      }
    },
    {
      "cell_type": "markdown",
      "source": [
        "<img src=\"https://sds-platform-private.s3-us-east-2.amazonaws.com/uploads/45_blog_image_3.png\" alt=\"My image\" width=\"2500\" height=\"350\"/>\n"
      ],
      "metadata": {
        "id": "mLpU7Ynftst1"
      }
    },
    {
      "cell_type": "markdown",
      "source": [
        "**This odd pink critter is just one of the thousands swimming around inside our brains.**\n",
        "\n",
        "**Its eyeless head is the neuron. It is connected to other neurons by those tentacles around it called dendrites and by the tails, which are called axons. Through these flow the electrical signals that form our perception of the world around us.**\n",
        "\n",
        "**Strangely enough, at the moment a signal is passed between an axon and dendrite, the two don’t actually touch.**\n",
        "\n",
        "**A gap exists between them. To continue its journey, the signal must act like a stuntman jumping across a deep canyon on a dirtbike. This jump process of the signal passing is called the synapse. For simplicity’s sake, this is the term I will also use when referring to the passing of signals in our Neural Networks.**"
      ],
      "metadata": {
        "id": "z_QF4dD6uZUn"
      }
    },
    {
      "cell_type": "markdown",
      "source": [
        "# **<font color='Yellow'><b>How has the biological Neuron been reimagined -</b></font>**"
      ],
      "metadata": {
        "id": "sK86_n6svEoP"
      }
    },
    {
      "cell_type": "markdown",
      "source": [
        "**Here is a diagram expressing the form a neuron takes in a Neural Network.**"
      ],
      "metadata": {
        "id": "46sJA7qYvVNG"
      }
    },
    {
      "cell_type": "markdown",
      "source": [
        "<img src=\"https://sds-platform-private.s3-us-east-2.amazonaws.com/uploads/45_blog_image_4.png\" alt=\"My image\" width=\"2500\" height=\"370\"/>\n"
      ],
      "metadata": {
        "id": "XNjaoNk9vYgf"
      }
    },
    {
      "cell_type": "markdown",
      "source": [
        "**The inputs on the left side represent the incoming signals to the main neuron in the middle. In a human neuron, this these would include smell or touch.**\n",
        "\n",
        "**In your Neural Network these inputs are independent variables. They travel down the synapses, go through the big grey circle, then emerge the other side as output values. It is a like-for-like process, for the most part.**\n",
        "\n",
        "**The main difference between the biological process and its artificial counterpart is the level of control you exert over the input values; the independent variables on the left-hand side.**\n",
        "\n"
      ],
      "metadata": {
        "id": "P2c8LtQ8vsDJ"
      }
    },
    {
      "cell_type": "markdown",
      "source": [
        "# **<font color='Yellow'><b>You can determine what variables will enter in your Neural Network:></font>**\n",
        "\n",
        "**It is important to remember; you must either standardize the values of your independent variables or normalize them. These processes keep your variables within a similar range so it is easier for your Neural Network to process them. This is essential for the operational capacity of your Neural Network.**"
      ],
      "metadata": {
        "id": "S78Qf8GYwEI7"
      }
    },
    {
      "cell_type": "markdown",
      "source": [
        "# **<font color='Yellow'><b>Observations -</b></font>**"
      ],
      "metadata": {
        "id": "6ArJAmfQVf1v"
      }
    },
    {
      "cell_type": "markdown",
      "source": [
        "**It is equally important to note that each variable does not stand alone. They are together as a singular observation. For example, you may list a person’s height, age, and weight. These are three different descriptors, but they pertain to one individual person.**\n",
        "\n",
        "**Now, once these values pass through the main neuron and break on through to the other side, they become output values.**"
      ],
      "metadata": {
        "id": "-ACv43CyVoTG"
      }
    },
    {
      "cell_type": "markdown",
      "source": [
        "# **<font color='Yellow'><b>Output values -</b></font>**\n",
        "**Output values can take different forms. Take a look at this diagram:**\n",
        "<img src=\"https://sds-platform-private.s3-us-east-2.amazonaws.com/uploads/45_blog_image_5.png\" alt=\"My image\" width=\"2500\" height=\"370\"/>\n"
      ],
      "metadata": {
        "id": "YsDl7kiqV50s"
      }
    },
    {
      "cell_type": "markdown",
      "source": [
        "**They can either be :**\n",
        "\n",
        "- **continuous(price)**\n",
        "- **binary(yes or no)**\n",
        "- **categorical.**\n",
        "\n",
        "**A categorical output will fan out into multiple variables.**\n",
        "**However, just as the input variables are different parts of a whole, the same goes for a categorical output.**\n",
        "**Picture it like a bobsled team: multiple entities packed inside one vehicle.**\n",
        "<div style=\"display: flex; justify-content: center; align-items: center; height: 100vh;\">\n",
        "  <img src=\"https://sds-platform-private.s3-us-east-2.amazonaws.com/uploads/45_blog_image_6.png\" alt=\"My image\" style=\"width: 1000px; height: 150px;\">\n",
        "</div>\n",
        "\n"
      ],
      "metadata": {
        "id": "_Z0QOEjmWZsm"
      }
    },
    {
      "cell_type": "markdown",
      "source": [
        "# **<font color='Yellow'><b>Singular observation-</b></font>**\n",
        "**It is important to remember so you can keep things clear in your mind when working through this;both the input on the left and output on the right or single observation:**\n",
        "\n",
        "**The Neuron is sandwitched between two single rows of data. There may be three input variables and one output. It doesn't matter. They are two single corresponding rows of data. One for one.**"
      ],
      "metadata": {
        "id": "rWn56xaYYOdF"
      }
    },
    {
      "cell_type": "markdown",
      "source": [
        "# **<font color='Yellow'><b>Back to the stuntman-</b></font>**\n",
        "**If he’s marauding over the soft pink terrain of the human brain he will eventually reach the canyon we mentioned before. He needs to jump it.**\n",
        "<img src=\"https://sds-platform-private.s3-us-east-2.amazonaws.com/uploads/45_blog_image_7.png\" alt=\"My image\" width=\"2500\" height=\"370\"/>"
      ],
      "metadata": {
        "id": "Ty1MVFKfZsp4"
      }
    },
    {
      "cell_type": "code",
      "source": [],
      "metadata": {
        "id": "cMOCB9uetr29"
      },
      "execution_count": null,
      "outputs": []
    },
    {
      "cell_type": "code",
      "execution_count": null,
      "metadata": {
        "id": "KC2G0m46r4_L"
      },
      "outputs": [],
      "source": []
    }
  ]
}